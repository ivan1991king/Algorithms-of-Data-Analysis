{
 "cells": [
  {
   "cell_type": "code",
   "execution_count": 1,
   "metadata": {},
   "outputs": [],
   "source": [
    "import numpy as np"
   ]
  },
  {
   "cell_type": "markdown",
   "metadata": {},
   "source": [
    "#### 1. Подберите скорость обучения (alpha) и количество итераций:"
   ]
  },
  {
   "cell_type": "code",
   "execution_count": 2,
   "metadata": {},
   "outputs": [
    {
     "data": {
      "text/plain": [
       "array([[ 1,  1,  1,  1,  1,  1,  1,  1,  1,  1],\n",
       "       [ 1,  1,  2,  1,  3,  0,  5, 10,  1,  2]])"
      ]
     },
     "execution_count": 2,
     "metadata": {},
     "output_type": "execute_result"
    }
   ],
   "source": [
    "X = np.array([[1, 1, 1, 1, 1, 1, 1, 1, 1, 1],\n",
    "              [1, 1, 2, 1, 3, 0, 5, 10, 1, 2]])\n",
    "X"
   ]
  },
  {
   "cell_type": "code",
   "execution_count": 3,
   "metadata": {},
   "outputs": [
    {
     "data": {
      "text/plain": [
       "[45, 55, 50, 59, 65, 35, 75, 80, 50, 60]"
      ]
     },
     "execution_count": 3,
     "metadata": {},
     "output_type": "execute_result"
    }
   ],
   "source": [
    "y = [45, 55, 50, 59, 65, 35, 75, 80, 50, 60]\n",
    "y"
   ]
  },
  {
   "cell_type": "code",
   "execution_count": 4,
   "metadata": {},
   "outputs": [],
   "source": [
    "def calc_mse(y, y_pred):\n",
    "    err = np.mean((y - y_pred)**2)\n",
    "    return err"
   ]
  },
  {
   "cell_type": "code",
   "execution_count": 5,
   "metadata": {
    "scrolled": true
   },
   "outputs": [],
   "source": [
    "n = X.shape[1]"
   ]
  },
  {
   "cell_type": "markdown",
   "metadata": {},
   "source": [
    "Зададим несколько вариантов скорости обучения и количества итераций"
   ]
  },
  {
   "cell_type": "code",
   "execution_count": 6,
   "metadata": {},
   "outputs": [],
   "source": [
    "alphas = [1e-3, 5e-3, 1e-2, 5e-2, 1e-1, 5e-1,1]\n",
    "n_iters = np.arange(250, 2001, 250)"
   ]
  },
  {
   "cell_type": "markdown",
   "metadata": {},
   "source": [
    "Пройдем через все варианты гиперпараметров:"
   ]
  },
  {
   "cell_type": "code",
   "execution_count": 7,
   "metadata": {},
   "outputs": [
    {
     "name": "stdout",
     "output_type": "stream",
     "text": [
      "0.001 250 249 [13.23154215 10.18353219] 668.7033520716412\n",
      "0.001 500 499 [21.01880845  8.75120433] 416.1248501427155\n",
      "0.001 750 749 [27.02193294  7.64268415] 265.9861471397774\n",
      "0.001 1000 999 [31.6502796   6.78802453] 176.7399358190342\n",
      "0.001 1250 1249 [35.21868711  6.12909079] 123.68974905302207\n",
      "0.001 1500 1499 [37.96989246  5.62105967] 92.15538726600644\n",
      "0.001 1750 1749 [40.0910434   5.22937293] 73.41057157477348\n",
      "0.001 2000 1999 [41.72642888  4.92738649] 62.26818291089486\n",
      "0.005 250 249 [35.25124915  6.12307796] 123.9168050280122\n",
      "0.005 500 499 [43.97712557  4.51177813] 51.69332429512342\n",
      "0.005 750 749 [46.3478067   4.07401372] 46.36235007149562\n",
      "0.005 1000 999 [46.99188286  3.95508013] 45.968859119735974\n",
      "0.005 1250 1249 [47.16686806  3.92276778] 45.939814685712896\n",
      "0.005 1500 1499 [47.21440874  3.91398903] 45.937670852051795\n",
      "0.005 1750 1749 [47.22732478  3.91160398] 45.93751261096634\n",
      "0.005 2000 1999 [47.23083386  3.910956  ] 45.93750093084319\n",
      "0.01 250 249 [43.99927528  4.50768801] 51.67506966332854\n",
      "0.01 500 499 [46.99514157  3.95447839] 45.968335680716045\n",
      "0.01 750 749 [47.21476831  3.91392263] 45.93766572159659\n",
      "0.01 1000 999 [47.23086913  3.91094949] 45.93750089064509\n",
      "0.01 1250 1249 [47.23204948  3.91073153] 45.93750000478663\n",
      "0.01 1500 1499 [47.23213601  3.91071555] 45.937500000025715\n",
      "0.01 1750 1749 [47.23214236  3.91071438] 45.93750000000014\n",
      "0.01 2000 1999 [47.23214282  3.91071429] 45.937500000000014\n",
      "0.05 250 249 [47.23207243  3.91072729] 45.937500002967454\n",
      "0.05 500 499 [47.23214286  3.91071429] 45.93750000000001\n",
      "0.05 750 749 [47.23214286  3.91071429] 45.9375\n",
      "0.05 1000 999 [47.23214286  3.91071429] 45.9375\n",
      "0.05 1250 1249 [47.23214286  3.91071429] 45.9375\n",
      "0.05 1500 1499 [47.23214286  3.91071429] 45.9375\n",
      "0.05 1750 1749 [47.23214286  3.91071429] 45.9375\n",
      "0.05 2000 1999 [47.23214286  3.91071429] 45.9375\n",
      "0.1 250 249 [-2.83733190e+76 -1.53653635e+77] 9.058609597463986e+154\n",
      "0.1 500 499 [-3.77333807e+152 -2.04342364e+153] 1.6021113388592541e+307\n"
     ]
    },
    {
     "name": "stderr",
     "output_type": "stream",
     "text": [
      "D:\\Ivan\\Anaconda2\\lib\\site-packages\\ipykernel_launcher.py:2: RuntimeWarning: overflow encountered in square\n",
      "  \n",
      "D:\\Ivan\\Anaconda2\\lib\\site-packages\\numpy\\core\\_methods.py:75: RuntimeWarning: overflow encountered in reduce\n",
      "  ret = umr_sum(arr, axis, dtype, out, keepdims)\n"
     ]
    },
    {
     "name": "stdout",
     "output_type": "stream",
     "text": [
      "0.1 750 749 [-5.01812289e+228 -2.71752776e+229] inf\n",
      "0.1 1000 999 [-6.67354922e+304 -3.61401178e+305] inf\n"
     ]
    },
    {
     "name": "stderr",
     "output_type": "stream",
     "text": [
      "D:\\Ivan\\Anaconda2\\lib\\site-packages\\numpy\\core\\fromnumeric.py:86: RuntimeWarning: overflow encountered in reduce\n",
      "  return ufunc.reduce(obj, axis, dtype, out, **passkwargs)\n"
     ]
    },
    {
     "name": "stdout",
     "output_type": "stream",
     "text": [
      "0.1 1250 1249 [nan nan] nan\n",
      "0.1 1500 1499 [nan nan] nan\n",
      "0.1 1750 1749 [nan nan] nan\n",
      "0.1 2000 1999 [nan nan] nan\n",
      "0.5 250 249 [-3.02416611e+287 -1.63771504e+288] inf\n",
      "0.5"
     ]
    },
    {
     "name": "stderr",
     "output_type": "stream",
     "text": [
      "D:\\Ivan\\Anaconda2\\lib\\site-packages\\ipykernel_launcher.py:10: RuntimeWarning: overflow encountered in multiply\n",
      "  # Remove the CWD from sys.path while we load stuff.\n"
     ]
    },
    {
     "name": "stdout",
     "output_type": "stream",
     "text": [
      " 500 499 [nan nan] nan\n",
      "0.5 750 749 [nan nan] nan\n",
      "0.5 1000 999 [nan nan] nan\n",
      "0.5 1250 1249 [nan nan] nan\n",
      "0.5 1500 1499 [nan nan] nan\n",
      "0.5 1750 1749 [nan nan] nan\n",
      "0.5 2000 1999 [nan nan] nan\n",
      "1 250 249 [nan nan] nan\n",
      "1 500 499 [nan nan] nan\n",
      "1 750 749 [nan nan] nan\n",
      "1 1000 999 [nan nan] nan\n",
      "1 1250 1249 [nan nan] nan\n",
      "1 1500 1499 [nan nan] nan\n",
      "1 1750 1749 [nan nan] nan\n",
      "1 2000 1999 [nan nan] nan\n"
     ]
    }
   ],
   "source": [
    "results = []\n",
    "weights_list = {}\n",
    "for alpha in alphas:\n",
    "    for n_iter in n_iters:\n",
    "        w = np.array([1, 0.5])\n",
    "        for i in range(n_iter):\n",
    "            y_pred = np.dot(w,X)\n",
    "            err = calc_mse(y, y_pred)\n",
    "            for j in range(w.shape[0]):\n",
    "                w[j] -= alpha * (1/n * 2 * np.sum(X[j] * (y_pred - y)))\n",
    "        print(alpha, n_iter, i, w, err)\n",
    "        weights_list[f'w_{alpha}_{n_iter}'] = w\n",
    "        results.append({\"alpha\": alpha, \"n_iter\": n_iter, \"error\" :err})\n",
    "        "
   ]
  },
  {
   "cell_type": "code",
   "execution_count": 8,
   "metadata": {},
   "outputs": [
    {
     "data": {
      "text/plain": [
       "[{'alpha': 0.001, 'n_iter': 250, 'error': 668.7033520716412},\n",
       " {'alpha': 0.001, 'n_iter': 500, 'error': 416.1248501427155},\n",
       " {'alpha': 0.001, 'n_iter': 750, 'error': 265.9861471397774},\n",
       " {'alpha': 0.001, 'n_iter': 1000, 'error': 176.7399358190342},\n",
       " {'alpha': 0.001, 'n_iter': 1250, 'error': 123.68974905302207},\n",
       " {'alpha': 0.001, 'n_iter': 1500, 'error': 92.15538726600644},\n",
       " {'alpha': 0.001, 'n_iter': 1750, 'error': 73.41057157477348},\n",
       " {'alpha': 0.001, 'n_iter': 2000, 'error': 62.26818291089486},\n",
       " {'alpha': 0.005, 'n_iter': 250, 'error': 123.9168050280122},\n",
       " {'alpha': 0.005, 'n_iter': 500, 'error': 51.69332429512342},\n",
       " {'alpha': 0.005, 'n_iter': 750, 'error': 46.36235007149562},\n",
       " {'alpha': 0.005, 'n_iter': 1000, 'error': 45.968859119735974},\n",
       " {'alpha': 0.005, 'n_iter': 1250, 'error': 45.939814685712896},\n",
       " {'alpha': 0.005, 'n_iter': 1500, 'error': 45.937670852051795},\n",
       " {'alpha': 0.005, 'n_iter': 1750, 'error': 45.93751261096634},\n",
       " {'alpha': 0.005, 'n_iter': 2000, 'error': 45.93750093084319},\n",
       " {'alpha': 0.01, 'n_iter': 250, 'error': 51.67506966332854},\n",
       " {'alpha': 0.01, 'n_iter': 500, 'error': 45.968335680716045},\n",
       " {'alpha': 0.01, 'n_iter': 750, 'error': 45.93766572159659},\n",
       " {'alpha': 0.01, 'n_iter': 1000, 'error': 45.93750089064509},\n",
       " {'alpha': 0.01, 'n_iter': 1250, 'error': 45.93750000478663},\n",
       " {'alpha': 0.01, 'n_iter': 1500, 'error': 45.937500000025715},\n",
       " {'alpha': 0.01, 'n_iter': 1750, 'error': 45.93750000000014},\n",
       " {'alpha': 0.01, 'n_iter': 2000, 'error': 45.937500000000014},\n",
       " {'alpha': 0.05, 'n_iter': 250, 'error': 45.937500002967454},\n",
       " {'alpha': 0.05, 'n_iter': 500, 'error': 45.93750000000001},\n",
       " {'alpha': 0.05, 'n_iter': 750, 'error': 45.9375},\n",
       " {'alpha': 0.05, 'n_iter': 1000, 'error': 45.9375},\n",
       " {'alpha': 0.05, 'n_iter': 1250, 'error': 45.9375},\n",
       " {'alpha': 0.05, 'n_iter': 1500, 'error': 45.9375},\n",
       " {'alpha': 0.05, 'n_iter': 1750, 'error': 45.9375},\n",
       " {'alpha': 0.05, 'n_iter': 2000, 'error': 45.9375},\n",
       " {'alpha': 0.1, 'n_iter': 250, 'error': 9.058609597463986e+154},\n",
       " {'alpha': 0.1, 'n_iter': 500, 'error': 1.6021113388592541e+307},\n",
       " {'alpha': 0.1, 'n_iter': 750, 'error': inf},\n",
       " {'alpha': 0.1, 'n_iter': 1000, 'error': inf},\n",
       " {'alpha': 0.1, 'n_iter': 1250, 'error': nan},\n",
       " {'alpha': 0.1, 'n_iter': 1500, 'error': nan},\n",
       " {'alpha': 0.1, 'n_iter': 1750, 'error': nan},\n",
       " {'alpha': 0.1, 'n_iter': 2000, 'error': nan},\n",
       " {'alpha': 0.5, 'n_iter': 250, 'error': inf},\n",
       " {'alpha': 0.5, 'n_iter': 500, 'error': nan},\n",
       " {'alpha': 0.5, 'n_iter': 750, 'error': nan},\n",
       " {'alpha': 0.5, 'n_iter': 1000, 'error': nan},\n",
       " {'alpha': 0.5, 'n_iter': 1250, 'error': nan},\n",
       " {'alpha': 0.5, 'n_iter': 1500, 'error': nan},\n",
       " {'alpha': 0.5, 'n_iter': 1750, 'error': nan},\n",
       " {'alpha': 0.5, 'n_iter': 2000, 'error': nan},\n",
       " {'alpha': 1, 'n_iter': 250, 'error': nan},\n",
       " {'alpha': 1, 'n_iter': 500, 'error': nan},\n",
       " {'alpha': 1, 'n_iter': 750, 'error': nan},\n",
       " {'alpha': 1, 'n_iter': 1000, 'error': nan},\n",
       " {'alpha': 1, 'n_iter': 1250, 'error': nan},\n",
       " {'alpha': 1, 'n_iter': 1500, 'error': nan},\n",
       " {'alpha': 1, 'n_iter': 1750, 'error': nan},\n",
       " {'alpha': 1, 'n_iter': 2000, 'error': nan}]"
      ]
     },
     "execution_count": 8,
     "metadata": {},
     "output_type": "execute_result"
    }
   ],
   "source": [
    "results"
   ]
  },
  {
   "cell_type": "code",
   "execution_count": 9,
   "metadata": {},
   "outputs": [
    {
     "data": {
      "text/plain": [
       "array([47.23214286,  3.91071429])"
      ]
     },
     "execution_count": 9,
     "metadata": {},
     "output_type": "execute_result"
    }
   ],
   "source": [
    "weights_list['w_0.05_500']"
   ]
  }
 ],
 "metadata": {
  "kernelspec": {
   "display_name": "Python 3",
   "language": "python",
   "name": "python3"
  },
  "language_info": {
   "codemirror_mode": {
    "name": "ipython",
    "version": 3
   },
   "file_extension": ".py",
   "mimetype": "text/x-python",
   "name": "python",
   "nbconvert_exporter": "python",
   "pygments_lexer": "ipython3",
   "version": "3.7.3"
  }
 },
 "nbformat": 4,
 "nbformat_minor": 2
}
